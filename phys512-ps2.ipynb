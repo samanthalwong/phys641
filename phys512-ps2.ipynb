{
 "cells": [
  {
   "cell_type": "markdown",
   "id": "aea3eb10",
   "metadata": {},
   "source": [
    "# Problem 2\n",
    "\n",
    "Beginning of code adapted from Jon's integrate_adaptive_class.py."
   ]
  },
  {
   "cell_type": "code",
   "execution_count": null,
   "id": "54f33177",
   "metadata": {},
   "outputs": [],
   "source": [
    "def integrate_adaptive(fun,a,b,tol,extra=None):\n",
    "    \n",
    "    x=np.linspace(a,b,5)\n",
    "    dx=x[1]-x[0]\n",
    "    y=fun(x)\n",
    "    \n",
    "    #do the 3-point integral\n",
    "    i1=(y[0]+4*y[2]+y[4])/3*(2*dx)\n",
    "    i2=(y[0]+4*y[1]+2*y[2]+4*y[3]+y[4])/3*dx\n",
    "    myerr=np.abs(i1-i2)\n",
    "    \n",
    "    if myerr<tol:\n",
    "        return i2\n",
    "    else:\n",
    "        "
   ]
  }
 ],
 "metadata": {
  "kernelspec": {
   "display_name": "Python 3 (ipykernel)",
   "language": "python",
   "name": "python3"
  },
  "language_info": {
   "codemirror_mode": {
    "name": "ipython",
    "version": 3
   },
   "file_extension": ".py",
   "mimetype": "text/x-python",
   "name": "python",
   "nbconvert_exporter": "python",
   "pygments_lexer": "ipython3",
   "version": "3.9.7"
  }
 },
 "nbformat": 4,
 "nbformat_minor": 5
}
